{
 "cells": [
  {
   "cell_type": "code",
   "execution_count": 1,
   "id": "2b852187",
   "metadata": {},
   "outputs": [],
   "source": [
    "# 引入Python包，在jupyter notebook 运行后可以直接输出多个变量 注意大小写\n",
    "from IPython.core.interactiveshell import InteractiveShell\n",
    "InteractiveShell.ast_node_interactivity = \"all\"\n",
    "\n",
    "# 指定gpu设备\n",
    "import os\n",
    "os.environ['CUDA_VISIBLE_DEVICES'] =\"0\" # gpu\n",
    "# os.environ[\"CUDA_VISIBLE_DEVICES\"] = \"-1\" # cpu"
   ]
  },
  {
   "cell_type": "code",
   "execution_count": 2,
   "id": "8ff317c8",
   "metadata": {},
   "outputs": [
    {
     "name": "stderr",
     "output_type": "stream",
     "text": [
      "Using TensorFlow backend.\n"
     ]
    }
   ],
   "source": [
    "from keras.applications import VGG16"
   ]
  },
  {
   "cell_type": "code",
   "execution_count": 3,
   "id": "1545a1bf",
   "metadata": {},
   "outputs": [
    {
     "data": {
      "text/plain": [
       "function"
      ]
     },
     "execution_count": 3,
     "metadata": {},
     "output_type": "execute_result"
    }
   ],
   "source": [
    "type(VGG16)"
   ]
  },
  {
   "cell_type": "code",
   "execution_count": 4,
   "id": "283380a8",
   "metadata": {},
   "outputs": [
    {
     "name": "stdout",
     "output_type": "stream",
     "text": [
      "WARNING:tensorflow:From D:\\ProgramData\\Miniconda3\\envs\\tensorflow_114_gpu\\lib\\site-packages\\keras\\backend\\tensorflow_backend.py:4070: The name tf.nn.max_pool is deprecated. Please use tf.nn.max_pool2d instead.\n",
      "\n"
     ]
    }
   ],
   "source": [
    "model = VGG16(weights='imagenet', include_top=False, input_shape=(150, 150, 3))"
   ]
  },
  {
   "cell_type": "code",
   "execution_count": 5,
   "id": "0df70d7f",
   "metadata": {},
   "outputs": [
    {
     "name": "stdout",
     "output_type": "stream",
     "text": [
      "Model: \"vgg16\"\n",
      "_________________________________________________________________\n",
      "Layer (type)                 Output Shape              Param #   \n",
      "=================================================================\n",
      "input_1 (InputLayer)         (None, 150, 150, 3)       0         \n",
      "_________________________________________________________________\n",
      "block1_conv1 (Conv2D)        (None, 150, 150, 64)      1792      \n",
      "_________________________________________________________________\n",
      "block1_conv2 (Conv2D)        (None, 150, 150, 64)      36928     \n",
      "_________________________________________________________________\n",
      "block1_pool (MaxPooling2D)   (None, 75, 75, 64)        0         \n",
      "_________________________________________________________________\n",
      "block2_conv1 (Conv2D)        (None, 75, 75, 128)       73856     \n",
      "_________________________________________________________________\n",
      "block2_conv2 (Conv2D)        (None, 75, 75, 128)       147584    \n",
      "_________________________________________________________________\n",
      "block2_pool (MaxPooling2D)   (None, 37, 37, 128)       0         \n",
      "_________________________________________________________________\n",
      "block3_conv1 (Conv2D)        (None, 37, 37, 256)       295168    \n",
      "_________________________________________________________________\n",
      "block3_conv2 (Conv2D)        (None, 37, 37, 256)       590080    \n",
      "_________________________________________________________________\n",
      "block3_conv3 (Conv2D)        (None, 37, 37, 256)       590080    \n",
      "_________________________________________________________________\n",
      "block3_pool (MaxPooling2D)   (None, 18, 18, 256)       0         \n",
      "_________________________________________________________________\n",
      "block4_conv1 (Conv2D)        (None, 18, 18, 512)       1180160   \n",
      "_________________________________________________________________\n",
      "block4_conv2 (Conv2D)        (None, 18, 18, 512)       2359808   \n",
      "_________________________________________________________________\n",
      "block4_conv3 (Conv2D)        (None, 18, 18, 512)       2359808   \n",
      "_________________________________________________________________\n",
      "block4_pool (MaxPooling2D)   (None, 9, 9, 512)         0         \n",
      "_________________________________________________________________\n",
      "block5_conv1 (Conv2D)        (None, 9, 9, 512)         2359808   \n",
      "_________________________________________________________________\n",
      "block5_conv2 (Conv2D)        (None, 9, 9, 512)         2359808   \n",
      "_________________________________________________________________\n",
      "block5_conv3 (Conv2D)        (None, 9, 9, 512)         2359808   \n",
      "_________________________________________________________________\n",
      "block5_pool (MaxPooling2D)   (None, 4, 4, 512)         0         \n",
      "=================================================================\n",
      "Total params: 14,714,688\n",
      "Trainable params: 14,714,688\n",
      "Non-trainable params: 0\n",
      "_________________________________________________________________\n"
     ]
    }
   ],
   "source": [
    "model.summary()"
   ]
  },
  {
   "cell_type": "code",
   "execution_count": 6,
   "id": "0037d05a",
   "metadata": {},
   "outputs": [
    {
     "name": "stdout",
     "output_type": "stream",
     "text": [
      "This is the number of trainable weights before freezing the conv base: 26\n"
     ]
    }
   ],
   "source": [
    "print('This is the number of trainable weights ' \n",
    "         'before freezing the conv base:', len(model.trainable_weights))"
   ]
  },
  {
   "cell_type": "code",
   "execution_count": 7,
   "id": "615d4d28",
   "metadata": {},
   "outputs": [],
   "source": [
    "import numpy as np\n",
    "from keras.preprocessing.image import ImageDataGenerator\n",
    "\n",
    "base_dir = 'kaggle-dogs-vs-cats/cats_and_dogs_small'\n",
    "train_dir = os.path.join(base_dir, 'train')\n",
    "validation_dir = os.path.join(base_dir, 'validation')\n",
    "test_dir = os.path.join(base_dir, 'test')\n",
    "\n",
    "datagen = ImageDataGenerator(rescale=1./255)\n",
    "batch_size = 20"
   ]
  },
  {
   "cell_type": "code",
   "execution_count": 14,
   "id": "c6848e69",
   "metadata": {},
   "outputs": [],
   "source": [
    "from keras import models\n",
    "from keras import layers\n",
    "from keras import optimizers\n",
    "\n",
    "dense_model = models.Sequential()\n",
    "dense_model.add(model) # 添加vgg16\n",
    "dense_model.add(layers.Flatten())\n",
    "dense_model.add(layers.Dense(256, activation='relu'))\n",
    "dense_model.add(layers.Dense(1, activation='sigmoid'))\n"
   ]
  },
  {
   "cell_type": "code",
   "execution_count": 15,
   "id": "9dbf35cf",
   "metadata": {},
   "outputs": [
    {
     "name": "stdout",
     "output_type": "stream",
     "text": [
      "Model: \"sequential_4\"\n",
      "_________________________________________________________________\n",
      "Layer (type)                 Output Shape              Param #   \n",
      "=================================================================\n",
      "vgg16 (Model)                (None, 4, 4, 512)         14714688  \n",
      "_________________________________________________________________\n",
      "flatten_4 (Flatten)          (None, 8192)              0         \n",
      "_________________________________________________________________\n",
      "dense_6 (Dense)              (None, 256)               2097408   \n",
      "_________________________________________________________________\n",
      "dense_7 (Dense)              (None, 1)                 257       \n",
      "=================================================================\n",
      "Total params: 16,812,353\n",
      "Trainable params: 16,812,353\n",
      "Non-trainable params: 0\n",
      "_________________________________________________________________\n"
     ]
    }
   ],
   "source": [
    "dense_model.summary()"
   ]
  },
  {
   "cell_type": "code",
   "execution_count": 16,
   "id": "d6e81e41",
   "metadata": {},
   "outputs": [
    {
     "name": "stdout",
     "output_type": "stream",
     "text": [
      "This is the number of trainable weights before freezing the conv base: 30\n"
     ]
    }
   ],
   "source": [
    "print('This is the number of trainable weights ' \n",
    "         'before freezing the conv base:', len(dense_model.trainable_weights))"
   ]
  },
  {
   "cell_type": "code",
   "execution_count": 17,
   "id": "134c9ed1",
   "metadata": {},
   "outputs": [
    {
     "name": "stdout",
     "output_type": "stream",
     "text": [
      "This is the number of trainable weights after freezing the conv base: 4\n"
     ]
    }
   ],
   "source": [
    "model.trainable = False\n",
    "print('This is the number of trainable weights ' \n",
    "          'after freezing the conv base:', len(dense_model.trainable_weights))"
   ]
  },
  {
   "cell_type": "code",
   "execution_count": 18,
   "id": "3ec35ff9",
   "metadata": {},
   "outputs": [
    {
     "name": "stdout",
     "output_type": "stream",
     "text": [
      "Model: \"sequential_4\"\n",
      "_________________________________________________________________\n",
      "Layer (type)                 Output Shape              Param #   \n",
      "=================================================================\n",
      "vgg16 (Model)                (None, 4, 4, 512)         14714688  \n",
      "_________________________________________________________________\n",
      "flatten_4 (Flatten)          (None, 8192)              0         \n",
      "_________________________________________________________________\n",
      "dense_6 (Dense)              (None, 256)               2097408   \n",
      "_________________________________________________________________\n",
      "dense_7 (Dense)              (None, 1)                 257       \n",
      "=================================================================\n",
      "Total params: 16,812,353\n",
      "Trainable params: 2,097,665\n",
      "Non-trainable params: 14,714,688\n",
      "_________________________________________________________________\n"
     ]
    }
   ],
   "source": [
    "dense_model.summary()"
   ]
  },
  {
   "cell_type": "code",
   "execution_count": 11,
   "id": "b108ee43",
   "metadata": {},
   "outputs": [
    {
     "name": "stdout",
     "output_type": "stream",
     "text": [
      "Found 2000 images belonging to 2 classes.\n",
      "Found 1000 images belonging to 2 classes.\n"
     ]
    }
   ],
   "source": [
    "from keras.preprocessing.image import ImageDataGenerator,load_img,img_to_array,array_to_img\n",
    "\n",
    "train_datagen = ImageDataGenerator(\n",
    "    rescale=1./255,\n",
    "    rotation_range=40,\n",
    "    width_shift_range=0.2,\n",
    "    height_shift_range=0.2,\n",
    "    shear_range=0.2,\n",
    "    zoom_range=0.2,\n",
    "    horizontal_flip=True,\n",
    "    fill_mode='nearest')\n",
    "\n",
    "test_datagen = ImageDataGenerator(rescale=1./255) # 验证数据不能增强\n",
    "\n",
    "train_generator = train_datagen.flow_from_directory(\n",
    "    train_dir,\n",
    "    target_size=(150, 150),\n",
    "    batch_size=20,\n",
    "    class_mode='binary')\n",
    "\n",
    "validation_generator = test_datagen.flow_from_directory(\n",
    "    validation_dir,\n",
    "    target_size=(150, 150),\n",
    "    batch_size=20,\n",
    "    class_mode='binary')"
   ]
  },
  {
   "cell_type": "code",
   "execution_count": 13,
   "id": "d980b27e",
   "metadata": {
    "scrolled": true
   },
   "outputs": [
    {
     "name": "stdout",
     "output_type": "stream",
     "text": [
      "WARNING:tensorflow:From D:\\ProgramData\\Miniconda3\\envs\\tensorflow_114_gpu\\lib\\site-packages\\tensorflow\\python\\ops\\nn_impl.py:180: add_dispatch_support.<locals>.wrapper (from tensorflow.python.ops.array_ops) is deprecated and will be removed in a future version.\n",
      "Instructions for updating:\n",
      "Use tf.where in 2.0, which has the same broadcast rule as np.where\n",
      "WARNING:tensorflow:From D:\\ProgramData\\Miniconda3\\envs\\tensorflow_114_gpu\\lib\\site-packages\\keras\\backend\\tensorflow_backend.py:422: The name tf.global_variables is deprecated. Please use tf.compat.v1.global_variables instead.\n",
      "\n",
      "Epoch 1/30\n",
      "100/100 [==============================] - 140s 1s/step - loss: 0.5790 - acc: 0.7040 - val_loss: 0.4430 - val_acc: 0.8140\n",
      "Epoch 2/30\n",
      "100/100 [==============================] - 66s 658ms/step - loss: 0.4733 - acc: 0.7835 - val_loss: 0.4033 - val_acc: 0.8520\n",
      "Epoch 3/30\n",
      "100/100 [==============================] - 80s 795ms/step - loss: 0.4314 - acc: 0.8185 - val_loss: 0.3944 - val_acc: 0.8630\n",
      "Epoch 4/30\n",
      "100/100 [==============================] - 84s 841ms/step - loss: 0.4165 - acc: 0.8135 - val_loss: 0.2421 - val_acc: 0.8790\n",
      "Epoch 5/30\n",
      "100/100 [==============================] - 76s 759ms/step - loss: 0.3945 - acc: 0.8190 - val_loss: 0.1622 - val_acc: 0.8840\n",
      "Epoch 6/30\n",
      "100/100 [==============================] - 77s 770ms/step - loss: 0.3716 - acc: 0.8450 - val_loss: 0.1470 - val_acc: 0.8840\n",
      "Epoch 7/30\n",
      "100/100 [==============================] - 79s 791ms/step - loss: 0.3585 - acc: 0.8395 - val_loss: 0.2859 - val_acc: 0.8830\n",
      "Epoch 8/30\n",
      "100/100 [==============================] - 83s 826ms/step - loss: 0.3538 - acc: 0.8580 - val_loss: 0.2265 - val_acc: 0.8890\n",
      "Epoch 9/30\n",
      "100/100 [==============================] - 95s 953ms/step - loss: 0.3429 - acc: 0.8495 - val_loss: 0.2646 - val_acc: 0.8800\n",
      "Epoch 10/30\n",
      "100/100 [==============================] - 111s 1s/step - loss: 0.3418 - acc: 0.8430 - val_loss: 0.3305 - val_acc: 0.8840\n",
      "Epoch 11/30\n",
      "100/100 [==============================] - 211s 2s/step - loss: 0.3241 - acc: 0.8640 - val_loss: 0.1927 - val_acc: 0.8880\n",
      "Epoch 12/30\n",
      "100/100 [==============================] - 234s 2s/step - loss: 0.3200 - acc: 0.8560 - val_loss: 0.4379 - val_acc: 0.8900\n",
      "Epoch 13/30\n",
      "100/100 [==============================] - 164s 2s/step - loss: 0.3267 - acc: 0.8550 - val_loss: 0.2600 - val_acc: 0.8900\n",
      "Epoch 14/30\n",
      "100/100 [==============================] - 98s 984ms/step - loss: 0.3173 - acc: 0.8620 - val_loss: 0.3510 - val_acc: 0.8900\n",
      "Epoch 15/30\n",
      "100/100 [==============================] - 136s 1s/step - loss: 0.3045 - acc: 0.8660 - val_loss: 0.2446 - val_acc: 0.8940\n",
      "Epoch 16/30\n",
      "100/100 [==============================] - 90s 895ms/step - loss: 0.3053 - acc: 0.8810 - val_loss: 0.2842 - val_acc: 0.8960\n",
      "Epoch 17/30\n",
      "100/100 [==============================] - 124s 1s/step - loss: 0.3103 - acc: 0.8670 - val_loss: 0.2159 - val_acc: 0.8970\n",
      "Epoch 18/30\n",
      "100/100 [==============================] - 104s 1s/step - loss: 0.3063 - acc: 0.8560 - val_loss: 0.3539 - val_acc: 0.9010\n",
      "Epoch 19/30\n",
      "100/100 [==============================] - 98s 977ms/step - loss: 0.3019 - acc: 0.8695 - val_loss: 0.2274 - val_acc: 0.9020\n",
      "Epoch 20/30\n",
      "100/100 [==============================] - 87s 866ms/step - loss: 0.2981 - acc: 0.8720 - val_loss: 0.1710 - val_acc: 0.8930\n",
      "Epoch 21/30\n",
      "100/100 [==============================] - 90s 896ms/step - loss: 0.2895 - acc: 0.8735 - val_loss: 0.1355 - val_acc: 0.9030\n",
      "Epoch 22/30\n",
      "100/100 [==============================] - 94s 943ms/step - loss: 0.2981 - acc: 0.8670 - val_loss: 0.6629 - val_acc: 0.9000\n",
      "Epoch 23/30\n",
      "100/100 [==============================] - 127s 1s/step - loss: 0.2941 - acc: 0.8730 - val_loss: 0.2111 - val_acc: 0.8980\n",
      "Epoch 24/30\n",
      "100/100 [==============================] - 81s 809ms/step - loss: 0.2968 - acc: 0.8720 - val_loss: 0.4047 - val_acc: 0.9020\n",
      "Epoch 25/30\n",
      "100/100 [==============================] - 83s 828ms/step - loss: 0.2805 - acc: 0.8795 - val_loss: 0.1655 - val_acc: 0.9030\n",
      "Epoch 26/30\n",
      "100/100 [==============================] - 79s 789ms/step - loss: 0.2939 - acc: 0.8720 - val_loss: 0.1465 - val_acc: 0.9000\n",
      "Epoch 27/30\n",
      "100/100 [==============================] - 79s 791ms/step - loss: 0.2949 - acc: 0.8770 - val_loss: 0.1303 - val_acc: 0.9020\n",
      "Epoch 28/30\n",
      "100/100 [==============================] - 91s 911ms/step - loss: 0.2894 - acc: 0.8675 - val_loss: 0.3422 - val_acc: 0.8970\n",
      "Epoch 29/30\n",
      "100/100 [==============================] - 82s 824ms/step - loss: 0.2844 - acc: 0.8700 - val_loss: 0.0936 - val_acc: 0.9030\n",
      "Epoch 30/30\n",
      "100/100 [==============================] - 84s 835ms/step - loss: 0.2788 - acc: 0.8785 - val_loss: 0.5632 - val_acc: 0.9040\n"
     ]
    }
   ],
   "source": [
    "# 编译器要在设置 model.trainable = False 之后再配置\n",
    "dense_model.compile(optimizer=optimizers.RMSprop(lr=2e-5),\n",
    "                   loss='binary_crossentropy',\n",
    "                   metrics=['acc'])\n",
    "\n",
    "history = dense_model.fit_generator(train_generator,\n",
    "                                    steps_per_epoch=100,\n",
    "                                    epochs=30,\n",
    "                                    validation_data=validation_generator,\n",
    "                                    validation_steps=50)"
   ]
  },
  {
   "cell_type": "code",
   "execution_count": 19,
   "id": "1103fa60",
   "metadata": {},
   "outputs": [
    {
     "ename": "NameError",
     "evalue": "name 'train_generator' is not defined",
     "output_type": "error",
     "traceback": [
      "\u001b[1;31m---------------------------------------------------------------------------\u001b[0m",
      "\u001b[1;31mNameError\u001b[0m                                 Traceback (most recent call last)",
      "\u001b[1;32m~\\AppData\\Local\\Temp/ipykernel_119168/184109233.py\u001b[0m in \u001b[0;36m<module>\u001b[1;34m\u001b[0m\n\u001b[1;32m----> 1\u001b[1;33m history = dense_model.fit_generator(train_generator,\n\u001b[0m\u001b[0;32m      2\u001b[0m                                     \u001b[0msteps_per_epoch\u001b[0m\u001b[1;33m=\u001b[0m\u001b[1;36m100\u001b[0m\u001b[1;33m,\u001b[0m\u001b[1;33m\u001b[0m\u001b[1;33m\u001b[0m\u001b[0m\n\u001b[0;32m      3\u001b[0m                                     \u001b[0mepochs\u001b[0m\u001b[1;33m=\u001b[0m\u001b[1;36m30\u001b[0m\u001b[1;33m,\u001b[0m\u001b[1;33m\u001b[0m\u001b[1;33m\u001b[0m\u001b[0m\n\u001b[0;32m      4\u001b[0m                                     \u001b[0mvalidation_data\u001b[0m\u001b[1;33m=\u001b[0m\u001b[0mvalidation_generator\u001b[0m\u001b[1;33m,\u001b[0m\u001b[1;33m\u001b[0m\u001b[1;33m\u001b[0m\u001b[0m\n\u001b[0;32m      5\u001b[0m                                     validation_steps=50)\n",
      "\u001b[1;31mNameError\u001b[0m: name 'train_generator' is not defined"
     ]
    }
   ],
   "source": [
    "history = dense_model.fit_generator(train_generator,\n",
    "                                    steps_per_epoch=100,\n",
    "                                    epochs=30,\n",
    "                                    validation_data=validation_generator,\n",
    "                                    validation_steps=50)"
   ]
  },
  {
   "cell_type": "code",
   "execution_count": 18,
   "id": "c6456ca3",
   "metadata": {},
   "outputs": [
    {
     "name": "stdout",
     "output_type": "stream",
     "text": [
      "Found 1000 images belonging to 2 classes.\n"
     ]
    },
    {
     "data": {
      "text/plain": [
       "[0.24859976768493652, 0.8920000195503235]"
      ]
     },
     "execution_count": 18,
     "metadata": {},
     "output_type": "execute_result"
    }
   ],
   "source": [
    "test_generator = test_datagen.flow_from_directory( \n",
    "        test_dir, \n",
    "        target_size=(150, 150), \n",
    "        batch_size=20, \n",
    "        class_mode='binary')\n",
    "dense_model.evaluate_generator(test_generator, steps=50)"
   ]
  },
  {
   "cell_type": "code",
   "execution_count": 15,
   "id": "313a0c11",
   "metadata": {},
   "outputs": [
    {
     "data": {
      "text/plain": [
       "[<matplotlib.lines.Line2D at 0x16c090aa288>]"
      ]
     },
     "execution_count": 15,
     "metadata": {},
     "output_type": "execute_result"
    },
    {
     "data": {
      "text/plain": [
       "[<matplotlib.lines.Line2D at 0x16c11e60bc8>]"
      ]
     },
     "execution_count": 15,
     "metadata": {},
     "output_type": "execute_result"
    },
    {
     "data": {
      "text/plain": [
       "Text(0.5, 1.0, 'Training and validation accuracy')"
      ]
     },
     "execution_count": 15,
     "metadata": {},
     "output_type": "execute_result"
    },
    {
     "data": {
      "text/plain": [
       "<matplotlib.legend.Legend at 0x16c090aaa08>"
      ]
     },
     "execution_count": 15,
     "metadata": {},
     "output_type": "execute_result"
    },
    {
     "data": {
      "text/plain": [
       "<Figure size 432x288 with 0 Axes>"
      ]
     },
     "execution_count": 15,
     "metadata": {},
     "output_type": "execute_result"
    },
    {
     "data": {
      "text/plain": [
       "[<matplotlib.lines.Line2D at 0x16c8b415b08>]"
      ]
     },
     "execution_count": 15,
     "metadata": {},
     "output_type": "execute_result"
    },
    {
     "data": {
      "text/plain": [
       "[<matplotlib.lines.Line2D at 0x16c8b3e7d88>]"
      ]
     },
     "execution_count": 15,
     "metadata": {},
     "output_type": "execute_result"
    },
    {
     "data": {
      "text/plain": [
       "Text(0.5, 1.0, 'Training and validation loss')"
      ]
     },
     "execution_count": 15,
     "metadata": {},
     "output_type": "execute_result"
    },
    {
     "data": {
      "text/plain": [
       "<matplotlib.legend.Legend at 0x16c1238a7c8>"
      ]
     },
     "execution_count": 15,
     "metadata": {},
     "output_type": "execute_result"
    },
    {
     "data": {
      "image/png": "[encoded data removed]",
      "text/plain": [
       "<Figure size 432x288 with 1 Axes>"
      ]
     },
     "metadata": {
      "needs_background": "light"
     },
     "output_type": "display_data"
    },
    {
     "data": {
      "image/png": "[encoded data removed]",
      "text/plain": [
       "<Figure size 432x288 with 1 Axes>"
      ]
     },
     "metadata": {
      "needs_background": "light"
     },
     "output_type": "display_data"
    }
   ],
   "source": [
    "import matplotlib.pyplot as plt\n",
    "\n",
    "acc = history.history['acc']\n",
    "val_acc = history.history['val_acc']\n",
    "loss = history.history['loss']\n",
    "val_loss = history.history['val_loss']\n",
    "\n",
    "epochs = range(1, len(acc) + 1) \n",
    " \n",
    "plt.plot(epochs, acc, 'bo', label='Training acc') \n",
    "plt.plot(epochs, val_acc, 'b', label='Validation acc') \n",
    "plt.title('Training and validation accuracy') \n",
    "plt.legend() \n",
    " \n",
    "plt.figure() \n",
    " \n",
    "plt.plot(epochs, loss, 'bo', label='Training loss') \n",
    "plt.plot(epochs, val_loss, 'b', label='Validation loss') \n",
    "plt.title('Training and validation loss') \n",
    "plt.legend()"
   ]
  },
  {
   "cell_type": "code",
   "execution_count": 16,
   "id": "3dde71d9",
   "metadata": {},
   "outputs": [],
   "source": [
    "dense_model.save('cats_and_dogs_small_vgg16_02.h5')"
   ]
  },
  {
   "cell_type": "code",
   "execution_count": 19,
   "id": "9751efa9",
   "metadata": {},
   "outputs": [
    {
     "data": {
      "text/plain": [
       "0.9039999842643738"
      ]
     },
     "execution_count": 19,
     "metadata": {},
     "output_type": "execute_result"
    }
   ],
   "source": [
    "max(history.history['val_acc'])"
   ]
  },
  {
   "cell_type": "code",
   "execution_count": null,
   "id": "e59a45df",
   "metadata": {},
   "outputs": [],
   "source": []
  }
 ],
 "metadata": {
  "kernelspec": {
   "display_name": "Python [conda env:tensorflow_114_gpu]",
   "language": "python",
   "name": "conda-env-tensorflow_114_gpu-py"
  },
  "language_info": {
   "codemirror_mode": {
    "name": "ipython",
    "version": 3
   },
   "file_extension": ".py",
   "mimetype": "text/x-python",
   "name": "python",
   "nbconvert_exporter": "python",
   "pygments_lexer": "ipython3",
   "version": "3.7.12"
  }
 },
 "nbformat": 4,
 "nbformat_minor": 5
}
