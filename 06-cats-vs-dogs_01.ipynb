{
 "cells": [
  {
   "cell_type": "code",
   "execution_count": 1,
   "id": "fa549774",
   "metadata": {},
   "outputs": [],
   "source": [
    "# 引入Python包，在jupyter notebook 运行后可以直接输出多个变量 注意大小写\n",
    "from IPython.core.interactiveshell import InteractiveShell\n",
    "InteractiveShell.ast_node_interactivity = \"all\"\n",
    "\n",
    "# 指定gpu设备\n",
    "import os\n",
    "# os.environ['CUDA_VISIBLE_DEVICES'] =\"0\" # gpu\n",
    "os.environ[\"CUDA_VISIBLE_DEVICES\"] = \"-1\" # cpu"
   ]
  },
  {
   "cell_type": "code",
   "execution_count": 2,
   "id": "d10cbf26",
   "metadata": {},
   "outputs": [],
   "source": [
    "import shutil\n",
    "import numpy as np"
   ]
  },
  {
   "cell_type": "code",
   "execution_count": 3,
   "id": "afbf2950",
   "metadata": {},
   "outputs": [
    {
     "name": "stdout",
     "output_type": "stream",
     "text": [
      "total training images: 25000\n"
     ]
    }
   ],
   "source": [
    "original_dataset_dir = 'kaggle-dogs-vs-cats/kaggle_original_train_data'\n",
    "print('total training images:', len(os.listdir(original_dataset_dir)))"
   ]
  },
  {
   "cell_type": "code",
   "execution_count": 4,
   "id": "3f3a2cab",
   "metadata": {},
   "outputs": [],
   "source": [
    "def mymkdir(path):\n",
    "    if not os.path.isdir(path):\n",
    "        os.mkdir(path)"
   ]
  },
  {
   "cell_type": "code",
   "execution_count": 5,
   "id": "e594cf4b",
   "metadata": {
    "scrolled": true
   },
   "outputs": [],
   "source": [
    "base_dir = 'kaggle-dogs-vs-cats/cats_and_dogs_small'\n",
    "mymkdir(base_dir)\n",
    "\n",
    "train_dir = os.path.join(base_dir, 'train')\n",
    "mymkdir(train_dir)\n",
    "test_dir = os.path.join(base_dir, 'test')\n",
    "mymkdir(test_dir)\n",
    "validation_dir = os.path.join(base_dir, 'validation')\n",
    "mymkdir(validation_dir)\n",
    "\n",
    "train_cats_dir = os.path.join(train_dir, 'cats')\n",
    "mymkdir(train_cats_dir)\n",
    "test_cats_dir = os.path.join(test_dir, 'cats')\n",
    "mymkdir(test_cats_dir)\n",
    "validation_cats_dir = os.path.join(validation_dir, 'cats')\n",
    "mymkdir(validation_cats_dir)\n",
    "\n",
    "train_dogs_dir = os.path.join(train_dir, 'dogs')\n",
    "mymkdir(train_dogs_dir)\n",
    "test_dogs_dir = os.path.join(test_dir, 'dogs')\n",
    "mymkdir(test_dogs_dir)\n",
    "validation_dogs_dir = os.path.join(validation_dir, 'dogs')\n",
    "mymkdir(validation_dogs_dir)"
   ]
  },
  {
   "cell_type": "code",
   "execution_count": 6,
   "id": "3313700f",
   "metadata": {},
   "outputs": [],
   "source": [
    "def copy_dataset(src_dir, dest_dir, start, end, class_name):\n",
    "    rule = class_name + '.{}.jpg'\n",
    "    frames = [rule.format(i) for i in range(start, end)]\n",
    "    for fname in frames:\n",
    "        src = os.path.join(src_dir, fname)\n",
    "        dst = os.path.join(dest_dir, fname)\n",
    "        shutil.copyfile(src, dst)"
   ]
  },
  {
   "cell_type": "code",
   "execution_count": 7,
   "id": "f075de92",
   "metadata": {},
   "outputs": [],
   "source": [
    "copy_dataset(original_dataset_dir, train_cats_dir, 0, 1000, 'cat')\n",
    "copy_dataset(original_dataset_dir, validation_cats_dir, 1000, 1500, 'cat')\n",
    "copy_dataset(original_dataset_dir, test_cats_dir, 1500, 2000, 'cat')\n",
    "\n",
    "copy_dataset(original_dataset_dir, train_dogs_dir, 0, 1000, 'dog')\n",
    "copy_dataset(original_dataset_dir, validation_dogs_dir, 1000, 1500, 'dog')\n",
    "copy_dataset(original_dataset_dir, test_dogs_dir, 1500, 2000, 'dog')"
   ]
  },
  {
   "cell_type": "code",
   "execution_count": 6,
   "id": "4d4ff568",
   "metadata": {},
   "outputs": [
    {
     "name": "stdout",
     "output_type": "stream",
     "text": [
      "total training cat images: 1000\n",
      "total training dog images: 1000\n",
      "total validation cat images: 500\n",
      "total validation dog images: 500\n",
      "total test cat images: 500\n",
      "total test dog images: 500\n"
     ]
    }
   ],
   "source": [
    "print('total training cat images:', len(os.listdir(train_cats_dir)))\n",
    "print('total training dog images:', len(os.listdir(train_dogs_dir)))\n",
    "print('total validation cat images:', len(os.listdir(validation_cats_dir)))\n",
    "print('total validation dog images:', len(os.listdir(validation_dogs_dir)))\n",
    "print('total test cat images:', len(os.listdir(test_cats_dir)))\n",
    "print('total test dog images:', len(os.listdir(test_dogs_dir)))"
   ]
  },
  {
   "cell_type": "code",
   "execution_count": 7,
   "id": "29eb717e",
   "metadata": {},
   "outputs": [
    {
     "name": "stderr",
     "output_type": "stream",
     "text": [
      "Using TensorFlow backend.\n"
     ]
    },
    {
     "name": "stdout",
     "output_type": "stream",
     "text": [
      "WARNING:tensorflow:From D:\\ProgramData\\Miniconda3\\envs\\tensorflow_114_gpu\\lib\\site-packages\\keras\\backend\\tensorflow_backend.py:4070: The name tf.nn.max_pool is deprecated. Please use tf.nn.max_pool2d instead.\n",
      "\n"
     ]
    }
   ],
   "source": [
    "from keras import models\n",
    "from keras import layers\n",
    "\n",
    "model = models.Sequential()\n",
    "model.add(layers.Conv2D(32, (3, 3), activation='relu', input_shape=(150, 150, 3)))\n",
    "model.add(layers.MaxPool2D((2, 2)))\n",
    "model.add(layers.Conv2D(64, (3, 3), activation='relu'))\n",
    "model.add(layers.MaxPool2D((2, 2)))\n",
    "model.add(layers.Conv2D(128, (3, 3), activation='relu'))\n",
    "model.add(layers.MaxPool2D((2, 2)))\n",
    "model.add(layers.Conv2D(128, (3, 3), activation='relu'))\n",
    "model.add(layers.MaxPooling2D((2, 2)))\n",
    "\n",
    "model.add(layers.Flatten())\n",
    "model.add(layers.Dense(512, activation='relu'))\n",
    "model.add(layers.Dense(1, activation='sigmoid'))"
   ]
  },
  {
   "cell_type": "code",
   "execution_count": 8,
   "id": "cd25d9be",
   "metadata": {},
   "outputs": [
    {
     "name": "stdout",
     "output_type": "stream",
     "text": [
      "Model: \"sequential_1\"\n",
      "_________________________________________________________________\n",
      "Layer (type)                 Output Shape              Param #   \n",
      "=================================================================\n",
      "conv2d_1 (Conv2D)            (None, 148, 148, 32)      896       \n",
      "_________________________________________________________________\n",
      "max_pooling2d_1 (MaxPooling2 (None, 74, 74, 32)        0         \n",
      "_________________________________________________________________\n",
      "conv2d_2 (Conv2D)            (None, 72, 72, 64)        18496     \n",
      "_________________________________________________________________\n",
      "max_pooling2d_2 (MaxPooling2 (None, 36, 36, 64)        0         \n",
      "_________________________________________________________________\n",
      "conv2d_3 (Conv2D)            (None, 34, 34, 128)       73856     \n",
      "_________________________________________________________________\n",
      "max_pooling2d_3 (MaxPooling2 (None, 17, 17, 128)       0         \n",
      "_________________________________________________________________\n",
      "conv2d_4 (Conv2D)            (None, 15, 15, 128)       147584    \n",
      "_________________________________________________________________\n",
      "max_pooling2d_4 (MaxPooling2 (None, 7, 7, 128)         0         \n",
      "_________________________________________________________________\n",
      "flatten_1 (Flatten)          (None, 6272)              0         \n",
      "_________________________________________________________________\n",
      "dense_1 (Dense)              (None, 512)               3211776   \n",
      "_________________________________________________________________\n",
      "dense_2 (Dense)              (None, 1)                 513       \n",
      "=================================================================\n",
      "Total params: 3,453,121\n",
      "Trainable params: 3,453,121\n",
      "Non-trainable params: 0\n",
      "_________________________________________________________________\n"
     ]
    }
   ],
   "source": [
    "model.summary()"
   ]
  },
  {
   "cell_type": "code",
   "execution_count": 9,
   "id": "4f01aed4",
   "metadata": {},
   "outputs": [
    {
     "name": "stdout",
     "output_type": "stream",
     "text": [
      "WARNING:tensorflow:From D:\\ProgramData\\Miniconda3\\envs\\tensorflow_114_gpu\\lib\\site-packages\\tensorflow\\python\\ops\\nn_impl.py:180: add_dispatch_support.<locals>.wrapper (from tensorflow.python.ops.array_ops) is deprecated and will be removed in a future version.\n",
      "Instructions for updating:\n",
      "Use tf.where in 2.0, which has the same broadcast rule as np.where\n"
     ]
    }
   ],
   "source": [
    "from keras import optimizers\n",
    "\n",
    "model.compile(optimizer=optimizers.RMSprop(lr=1e-4), loss='binary_crossentropy', metrics=['acc'])"
   ]
  },
  {
   "cell_type": "code",
   "execution_count": 10,
   "id": "d2f83114",
   "metadata": {},
   "outputs": [
    {
     "name": "stdout",
     "output_type": "stream",
     "text": [
      "Found 2000 images belonging to 2 classes.\n",
      "Found 1000 images belonging to 2 classes.\n"
     ]
    }
   ],
   "source": [
    "from keras.preprocessing.image import ImageDataGenerator,load_img,img_to_array,array_to_img\n",
    "from PIL import Image, ImageDraw, ImageFont, ImageFilter\n",
    "\n",
    "train_datagen = ImageDataGenerator(rescale=1./255)\n",
    "test_datagen = ImageDataGenerator(rescale=1./255)\n",
    "\n",
    "train_generator = train_datagen.flow_from_directory(\n",
    "    train_dir,\n",
    "    target_size=(150, 150),\n",
    "    batch_size=20,\n",
    "    class_mode='binary')\n",
    "\n",
    "validation_generator = test_datagen.flow_from_directory(\n",
    "    validation_dir,\n",
    "    target_size=(150, 150),\n",
    "    batch_size=20,\n",
    "    class_mode='binary')"
   ]
  },
  {
   "cell_type": "code",
   "execution_count": 11,
   "id": "6bdfc501",
   "metadata": {},
   "outputs": [
    {
     "name": "stdout",
     "output_type": "stream",
     "text": [
      "data batch shape: (20, 150, 150, 3)\n",
      "labels batch shape: (20,)\n"
     ]
    }
   ],
   "source": [
    "for data_batch, labels_batch in train_generator:\n",
    "    print('data batch shape:', data_batch.shape)\n",
    "    print('labels batch shape:', labels_batch.shape)\n",
    "    break"
   ]
  },
  {
   "cell_type": "code",
   "execution_count": 14,
   "id": "b447f3cc",
   "metadata": {},
   "outputs": [
    {
     "name": "stdout",
     "output_type": "stream",
     "text": [
      "WARNING:tensorflow:From D:\\ProgramData\\Miniconda3\\envs\\tensorflow_114_gpu\\lib\\site-packages\\keras\\backend\\tensorflow_backend.py:422: The name tf.global_variables is deprecated. Please use tf.compat.v1.global_variables instead.\n",
      "\n",
      "Epoch 1/30\n",
      "100/100 [==============================] - 17s 167ms/step - loss: 0.6903 - acc: 0.5375 - val_loss: 0.6639 - val_acc: 0.5990\n",
      "Epoch 2/30\n",
      "100/100 [==============================] - 39s 392ms/step - loss: 0.6573 - acc: 0.6135 - val_loss: 0.6025 - val_acc: 0.6230\n",
      "Epoch 3/30\n",
      "100/100 [==============================] - 49s 491ms/step - loss: 0.6066 - acc: 0.6605 - val_loss: 0.6353 - val_acc: 0.6560\n",
      "Epoch 4/30\n",
      "100/100 [==============================] - 39s 388ms/step - loss: 0.5706 - acc: 0.7060 - val_loss: 0.4782 - val_acc: 0.6780\n",
      "Epoch 5/30\n",
      "100/100 [==============================] - 16s 158ms/step - loss: 0.5425 - acc: 0.7315 - val_loss: 0.5741 - val_acc: 0.6890\n",
      "Epoch 6/30\n",
      "100/100 [==============================] - 19s 189ms/step - loss: 0.5139 - acc: 0.7400 - val_loss: 0.5890 - val_acc: 0.6680\n",
      "Epoch 7/30\n",
      "100/100 [==============================] - 29s 291ms/step - loss: 0.4942 - acc: 0.7540 - val_loss: 0.5698 - val_acc: 0.6830\n",
      "Epoch 8/30\n",
      "100/100 [==============================] - 28s 277ms/step - loss: 0.4617 - acc: 0.7855 - val_loss: 0.6182 - val_acc: 0.6680\n",
      "Epoch 9/30\n",
      "100/100 [==============================] - 31s 307ms/step - loss: 0.4371 - acc: 0.7885 - val_loss: 0.5298 - val_acc: 0.7140\n",
      "Epoch 10/30\n",
      "100/100 [==============================] - 29s 290ms/step - loss: 0.4175 - acc: 0.8020 - val_loss: 0.4855 - val_acc: 0.7230\n",
      "Epoch 11/30\n",
      "100/100 [==============================] - 31s 312ms/step - loss: 0.3908 - acc: 0.8220 - val_loss: 0.5128 - val_acc: 0.7210\n",
      "Epoch 12/30\n",
      "100/100 [==============================] - 30s 302ms/step - loss: 0.3621 - acc: 0.8455 - val_loss: 0.5070 - val_acc: 0.7110\n",
      "Epoch 13/30\n",
      "100/100 [==============================] - 29s 293ms/step - loss: 0.3369 - acc: 0.8550 - val_loss: 0.6824 - val_acc: 0.7520\n",
      "Epoch 14/30\n",
      "100/100 [==============================] - 29s 294ms/step - loss: 0.3211 - acc: 0.8700 - val_loss: 0.5909 - val_acc: 0.7320\n",
      "Epoch 15/30\n",
      "100/100 [==============================] - 28s 282ms/step - loss: 0.2930 - acc: 0.8850 - val_loss: 0.4662 - val_acc: 0.6900\n",
      "Epoch 16/30\n",
      "100/100 [==============================] - 37s 372ms/step - loss: 0.2756 - acc: 0.8850 - val_loss: 0.4082 - val_acc: 0.7300\n",
      "Epoch 17/30\n",
      "100/100 [==============================] - 31s 314ms/step - loss: 0.2550 - acc: 0.9015 - val_loss: 0.8442 - val_acc: 0.7270\n",
      "Epoch 18/30\n",
      "100/100 [==============================] - 29s 291ms/step - loss: 0.2355 - acc: 0.9090 - val_loss: 0.3599 - val_acc: 0.7070\n",
      "Epoch 19/30\n",
      "100/100 [==============================] - 29s 287ms/step - loss: 0.2096 - acc: 0.9195 - val_loss: 0.9264 - val_acc: 0.7210\n",
      "Epoch 20/30\n",
      "100/100 [==============================] - 31s 306ms/step - loss: 0.1863 - acc: 0.9325 - val_loss: 0.7686 - val_acc: 0.7190\n",
      "Epoch 21/30\n",
      "100/100 [==============================] - 24s 237ms/step - loss: 0.1664 - acc: 0.9435 - val_loss: 0.4951 - val_acc: 0.6970\n",
      "Epoch 22/30\n",
      "100/100 [==============================] - 42s 420ms/step - loss: 0.1511 - acc: 0.9480 - val_loss: 0.7598 - val_acc: 0.7400\n",
      "Epoch 23/30\n",
      "100/100 [==============================] - 24s 239ms/step - loss: 0.1391 - acc: 0.9520 - val_loss: 0.7891 - val_acc: 0.7300\n",
      "Epoch 24/30\n",
      "100/100 [==============================] - 23s 235ms/step - loss: 0.1187 - acc: 0.9645 - val_loss: 0.3285 - val_acc: 0.7300\n",
      "Epoch 25/30\n",
      "100/100 [==============================] - 24s 241ms/step - loss: 0.1064 - acc: 0.9655 - val_loss: 0.8402 - val_acc: 0.7290\n",
      "Epoch 26/30\n",
      "100/100 [==============================] - 23s 233ms/step - loss: 0.0883 - acc: 0.9735 - val_loss: 0.7639 - val_acc: 0.7200\n",
      "Epoch 27/30\n",
      "100/100 [==============================] - 26s 262ms/step - loss: 0.0785 - acc: 0.9795 - val_loss: 1.6654 - val_acc: 0.7340\n",
      "Epoch 28/30\n",
      "100/100 [==============================] - 25s 247ms/step - loss: 0.0716 - acc: 0.9805 - val_loss: 0.6053 - val_acc: 0.7140\n",
      "Epoch 29/30\n",
      "100/100 [==============================] - 23s 234ms/step - loss: 0.0573 - acc: 0.9865 - val_loss: 1.0114 - val_acc: 0.6910\n",
      "Epoch 30/30\n",
      "100/100 [==============================] - 24s 238ms/step - loss: 0.0481 - acc: 0.9900 - val_loss: 0.6874 - val_acc: 0.7250\n"
     ]
    }
   ],
   "source": [
    "# gpu\n",
    "history = model.fit_generator(\n",
    "    train_generator, \n",
    "    steps_per_epoch=100, \n",
    "    epochs=30, \n",
    "    validation_data=validation_generator, \n",
    "    validation_steps=50)"
   ]
  },
  {
   "cell_type": "code",
   "execution_count": null,
   "id": "609c4c25",
   "metadata": {},
   "outputs": [],
   "source": [
    "model.save('cats_and_dogs_small_1.h5')"
   ]
  },
  {
   "cell_type": "code",
   "execution_count": 12,
   "id": "66f5caf6",
   "metadata": {},
   "outputs": [
    {
     "name": "stdout",
     "output_type": "stream",
     "text": [
      "WARNING:tensorflow:From D:\\ProgramData\\Miniconda3\\envs\\tensorflow_114_gpu\\lib\\site-packages\\keras\\backend\\tensorflow_backend.py:422: The name tf.global_variables is deprecated. Please use tf.compat.v1.global_variables instead.\n",
      "\n",
      "Epoch 1/30\n",
      "100/100 [==============================] - 70s 697ms/step - loss: 0.6898 - acc: 0.5330 - val_loss: 0.6750 - val_acc: 0.6090\n",
      "Epoch 2/30\n",
      "100/100 [==============================] - 74s 744ms/step - loss: 0.6709 - acc: 0.5955 - val_loss: 0.7318 - val_acc: 0.5780\n",
      "Epoch 3/30\n",
      "100/100 [==============================] - 82s 822ms/step - loss: 0.6363 - acc: 0.6440 - val_loss: 0.6056 - val_acc: 0.6450\n",
      "Epoch 4/30\n",
      "100/100 [==============================] - 81s 808ms/step - loss: 0.5968 - acc: 0.6755 - val_loss: 0.5154 - val_acc: 0.5820\n",
      "Epoch 5/30\n",
      "100/100 [==============================] - 75s 751ms/step - loss: 0.5504 - acc: 0.7160 - val_loss: 0.5487 - val_acc: 0.6900\n",
      "Epoch 6/30\n",
      "100/100 [==============================] - 80s 796ms/step - loss: 0.5115 - acc: 0.7450 - val_loss: 0.6632 - val_acc: 0.6990\n",
      "Epoch 7/30\n",
      "100/100 [==============================] - 82s 815ms/step - loss: 0.4820 - acc: 0.7690 - val_loss: 0.5559 - val_acc: 0.6880\n",
      "Epoch 8/30\n",
      "100/100 [==============================] - 80s 797ms/step - loss: 0.4551 - acc: 0.7875 - val_loss: 0.3392 - val_acc: 0.7040\n",
      "Epoch 9/30\n",
      "100/100 [==============================] - 81s 811ms/step - loss: 0.4320 - acc: 0.8005 - val_loss: 0.3301 - val_acc: 0.7250\n",
      "Epoch 10/30\n",
      "100/100 [==============================] - 108s 1s/step - loss: 0.3970 - acc: 0.8290 - val_loss: 0.4600 - val_acc: 0.7300\n",
      "Epoch 11/30\n",
      "100/100 [==============================] - 84s 838ms/step - loss: 0.3711 - acc: 0.8355 - val_loss: 0.6018 - val_acc: 0.6860\n",
      "Epoch 12/30\n",
      "100/100 [==============================] - 76s 761ms/step - loss: 0.3426 - acc: 0.8535 - val_loss: 0.7156 - val_acc: 0.7200\n",
      "Epoch 13/30\n",
      "100/100 [==============================] - 74s 745ms/step - loss: 0.3131 - acc: 0.8700 - val_loss: 0.3314 - val_acc: 0.7260\n",
      "Epoch 14/30\n",
      "100/100 [==============================] - 75s 749ms/step - loss: 0.2931 - acc: 0.8780 - val_loss: 0.4990 - val_acc: 0.7250\n",
      "Epoch 15/30\n",
      "100/100 [==============================] - 75s 752ms/step - loss: 0.2696 - acc: 0.9000 - val_loss: 0.6598 - val_acc: 0.7130\n",
      "Epoch 16/30\n",
      "100/100 [==============================] - 75s 751ms/step - loss: 0.2419 - acc: 0.9045 - val_loss: 0.6758 - val_acc: 0.7160\n",
      "Epoch 17/30\n",
      "100/100 [==============================] - 76s 757ms/step - loss: 0.2210 - acc: 0.9145 - val_loss: 1.1011 - val_acc: 0.7070\n",
      "Epoch 18/30\n",
      "100/100 [==============================] - 78s 780ms/step - loss: 0.1929 - acc: 0.9285 - val_loss: 0.6391 - val_acc: 0.7380\n",
      "Epoch 19/30\n",
      "100/100 [==============================] - 80s 798ms/step - loss: 0.1821 - acc: 0.9290 - val_loss: 1.0596 - val_acc: 0.7280\n",
      "Epoch 20/30\n",
      "100/100 [==============================] - 83s 826ms/step - loss: 0.1528 - acc: 0.9485 - val_loss: 0.4702 - val_acc: 0.7320\n",
      "Epoch 21/30\n",
      "100/100 [==============================] - 85s 846ms/step - loss: 0.1385 - acc: 0.9525 - val_loss: 0.4988 - val_acc: 0.7370\n",
      "Epoch 22/30\n",
      "100/100 [==============================] - 81s 813ms/step - loss: 0.1280 - acc: 0.9570 - val_loss: 0.4406 - val_acc: 0.7320\n",
      "Epoch 23/30\n",
      "100/100 [==============================] - 76s 761ms/step - loss: 0.0978 - acc: 0.9700 - val_loss: 1.2084 - val_acc: 0.7180\n",
      "Epoch 24/30\n",
      "100/100 [==============================] - 78s 775ms/step - loss: 0.0927 - acc: 0.9690 - val_loss: 0.7886 - val_acc: 0.7310\n",
      "Epoch 25/30\n",
      "100/100 [==============================] - 82s 821ms/step - loss: 0.0749 - acc: 0.9780 - val_loss: 0.7630 - val_acc: 0.7110\n",
      "Epoch 26/30\n",
      "100/100 [==============================] - 79s 787ms/step - loss: 0.0644 - acc: 0.9855 - val_loss: 0.5724 - val_acc: 0.7040\n",
      "Epoch 27/30\n",
      "100/100 [==============================] - 73s 729ms/step - loss: 0.0590 - acc: 0.9840 - val_loss: 1.8086 - val_acc: 0.7020\n",
      "Epoch 28/30\n",
      "100/100 [==============================] - 59s 587ms/step - loss: 0.0402 - acc: 0.9915 - val_loss: 1.1181 - val_acc: 0.7210\n",
      "Epoch 29/30\n",
      "100/100 [==============================] - 61s 610ms/step - loss: 0.0423 - acc: 0.9890 - val_loss: 1.5724 - val_acc: 0.7290\n",
      "Epoch 30/30\n",
      "100/100 [==============================] - 76s 757ms/step - loss: 0.0332 - acc: 0.9910 - val_loss: 1.0234 - val_acc: 0.7180\n"
     ]
    }
   ],
   "source": [
    "# cpu 训练耗时是用gpu的3倍\n",
    "history = model.fit_generator(\n",
    "    train_generator, \n",
    "    steps_per_epoch=100, \n",
    "    epochs=30, \n",
    "    validation_data=validation_generator, \n",
    "    validation_steps=50)"
   ]
  },
  {
   "cell_type": "code",
   "execution_count": 13,
   "id": "ff9b13aa",
   "metadata": {},
   "outputs": [],
   "source": [
    "model.save('cats_and_dogs_small_1_cpu.h5')"
   ]
  },
  {
   "cell_type": "code",
   "execution_count": 14,
   "id": "25147982",
   "metadata": {},
   "outputs": [
    {
     "data": {
      "text/plain": [
       "dict_keys(['val_loss', 'val_acc', 'loss', 'acc'])"
      ]
     },
     "execution_count": 14,
     "metadata": {},
     "output_type": "execute_result"
    }
   ],
   "source": [
    "history.history.keys()"
   ]
  },
  {
   "cell_type": "code",
   "execution_count": 15,
   "id": "981cba4e",
   "metadata": {},
   "outputs": [
    {
     "data": {
      "text/plain": [
       "[<matplotlib.lines.Line2D at 0x22a81b98188>]"
      ]
     },
     "execution_count": 15,
     "metadata": {},
     "output_type": "execute_result"
    },
    {
     "data": {
      "text/plain": [
       "[<matplotlib.lines.Line2D at 0x22a81c90888>]"
      ]
     },
     "execution_count": 15,
     "metadata": {},
     "output_type": "execute_result"
    },
    {
     "data": {
      "text/plain": [
       "Text(0.5, 1.0, 'Training and validation accuracy')"
      ]
     },
     "execution_count": 15,
     "metadata": {},
     "output_type": "execute_result"
    },
    {
     "data": {
      "text/plain": [
       "<matplotlib.legend.Legend at 0x22a82439d88>"
      ]
     },
     "execution_count": 15,
     "metadata": {},
     "output_type": "execute_result"
    },
    {
     "data": {
      "text/plain": [
       "<Figure size 432x288 with 0 Axes>"
      ]
     },
     "execution_count": 15,
     "metadata": {},
     "output_type": "execute_result"
    },
    {
     "data": {
      "text/plain": [
       "[<matplotlib.lines.Line2D at 0x22a82482948>]"
      ]
     },
     "execution_count": 15,
     "metadata": {},
     "output_type": "execute_result"
    },
    {
     "data": {
      "text/plain": [
       "[<matplotlib.lines.Line2D at 0x22a8243c7c8>]"
      ]
     },
     "execution_count": 15,
     "metadata": {},
     "output_type": "execute_result"
    },
    {
     "data": {
      "text/plain": [
       "Text(0.5, 1.0, 'Training and validation loss')"
      ]
     },
     "execution_count": 15,
     "metadata": {},
     "output_type": "execute_result"
    },
    {
     "data": {
      "text/plain": [
       "<matplotlib.legend.Legend at 0x22a82482e88>"
      ]
     },
     "execution_count": 15,
     "metadata": {},
     "output_type": "execute_result"
    },
    {
     "data": {
      "image/png": "[encoded data removed]",
      "text/plain": [
       "<Figure size 432x288 with 1 Axes>"
      ]
     },
     "metadata": {
      "needs_background": "light"
     },
     "output_type": "display_data"
    },
    {
     "data": {
      "image/png": "[encoded data removed]",
      "text/plain": [
       "<Figure size 432x288 with 1 Axes>"
      ]
     },
     "metadata": {
      "needs_background": "light"
     },
     "output_type": "display_data"
    }
   ],
   "source": [
    "import matplotlib.pyplot as plt \n",
    "\n",
    "acc = history.history['acc'] \n",
    "val_acc = history.history['val_acc'] \n",
    "loss = history.history['loss'] \n",
    "val_loss = history.history['val_loss'] \n",
    " \n",
    "epochs = range(1, len(acc) + 1) \n",
    " \n",
    "plt.plot(epochs, acc, 'bo', label='Training acc') \n",
    "plt.plot(epochs, val_acc, 'b', label='Validation acc') \n",
    "plt.title('Training and validation accuracy') \n",
    "plt.legend() \n",
    " \n",
    "plt.figure() \n",
    " \n",
    "plt.plot(epochs, loss, 'bo', label='Training loss') \n",
    "plt.plot(epochs, val_loss, 'b', label='Validation loss') \n",
    "plt.title('Training and validation loss') \n",
    "plt.legend()"
   ]
  },
  {
   "cell_type": "code",
   "execution_count": null,
   "id": "690b8db4",
   "metadata": {},
   "outputs": [],
   "source": []
  }
 ],
 "metadata": {
  "kernelspec": {
   "display_name": "Python [conda env:tensorflow_114_gpu]",
   "language": "python",
   "name": "conda-env-tensorflow_114_gpu-py"
  },
  "language_info": {
   "codemirror_mode": {
    "name": "ipython",
    "version": 3
   },
   "file_extension": ".py",
   "mimetype": "text/x-python",
   "name": "python",
   "nbconvert_exporter": "python",
   "pygments_lexer": "ipython3",
   "version": "3.7.12"
  }
 },
 "nbformat": 4,
 "nbformat_minor": 5
}
